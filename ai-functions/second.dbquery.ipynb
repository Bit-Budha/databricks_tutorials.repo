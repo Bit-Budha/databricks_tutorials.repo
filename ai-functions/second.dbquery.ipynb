{
 "cells": [
  {
   "cell_type": "code",
   "execution_count": 0,
   "metadata": {
    "application/vnd.databricks.v1+cell": {
     "cellMetadata": {
      "byteLimit": 10485760,
      "rowLimit": 1000
     },
     "inputWidgets": {},
     "nuid": "edcd7e21-4cf0-448e-961d-6c58e0798c9d",
     "showTitle": false,
     "tableResultSettingsMap": {},
     "title": ""
    }
   },
   "outputs": [],
   "source": [
    "--https://docs.databricks.com/aws/en/large-language-models/ai-functions-example\n",
    "\n",
    "CREATE CATALOG IF NOT EXISTS datasciencebasic;\n",
    "CREATE SCHEMA IF NOT EXISTS datasciencebasics.youtube;\n",
    "\n",
    "-- Step 1: Create the table\n",
    "CREATE TABLE IF NOT EXISTS datasciencebasics.youtube.product_reviews (\n",
    "    id INT PRIMARY KEY,\n",
    "    review STRING\n",
    ");\n",
    "\n",
    "-- Step 2: Insert the rows\n",
    "INSERT INTO datasciencebasics.youtube.product_reviews (id, review) VALUES\n",
    "(1, 'I''m usually a size M and I ordered size M. But it looked baggy on me. Going to return it.'),\n",
    "(2, 'It was a gift for my daughter''s birthday but it arrived a month late. Disappointing.'),\n",
    "(3, 'I bought this necklace as a gift for my girlfriend. But she didn''t like it.'),\n",
    "(4, 'The customer did not leave a review.'),\n",
    "(5, 'Nice backpack with water bottle holders. Great for my daily commute.'),\n",
    "(6, 'Beautiful dress with delicate lace details!');\n",
    "\n",
    "----###AI functions on this table#### -----\n",
    "\n",
    "---analyze sentiment\n",
    "SELECT\n",
    "  review,\n",
    "  ai_analyze_sentiment(review) AS sentiment\n",
    "FROM\n",
    "  product_reviews;\n",
    "\n",
    "--- classify reviews\n",
    "SELECT\n",
    "  review,\n",
    "  ai_classify(\n",
    "    review,\n",
    "    ARRAY(\n",
    "      \"Arrives too late\",\n",
    "      \"Wrong size\",\n",
    "      \"Wrong color\",\n",
    "      \"Dislike the style\"\n",
    "    )\n",
    "  ) AS reason\n",
    "FROM\n",
    "  product_reviews\n",
    "WHERE\n",
    "  ai_analyze_sentiment(review) = \"negative\"\n",
    "\n",
    "--- extract info from reviews\n",
    "SELECT\n",
    "  review,\n",
    "  ai_extract(review, array(\"usual size\")) AS usual_size,\n",
    "  ai_classify(review, array(\"Size is wrong\", \"Size is right\")) AS fit\n",
    "FROM\n",
    "  product_reviews\n",
    "\n",
    "-- generate responses with recommendations\n",
    "SELECT\n",
    "  review,\n",
    "  ai_gen(\n",
    "    \"Generate a reply in 60 words to address the customer's review.\n",
    "    Mention their opinions are valued and a 30% discount coupon code has been sent to their email.\n",
    "    Customer's review: \" || review\n",
    "  ) AS reply\n",
    "FROM\n",
    "  product_reviews\n",
    "WHERE\n",
    "  ai_analyze_sentiment(review) = \"negative\"\n"
   ]
  }
 ],
 "metadata": {
  "application/vnd.databricks.v1+notebook": {
   "computePreferences": null,
   "dashboards": [],
   "environmentMetadata": null,
   "inputWidgetPreferences": null,
   "language": "sql",
   "notebookMetadata": {
    "pythonIndentUnit": 4,
    "sqlQueryOptions": {
     "applyAutoLimit": true,
     "catalog": "datasciencebasics",
     "schema": "youtube"
    }
   },
   "notebookName": "second.dbquery.ipynb",
   "widgets": {}
  },
  "language_info": {
   "name": "sql"
  }
 },
 "nbformat": 4,
 "nbformat_minor": 0
}
