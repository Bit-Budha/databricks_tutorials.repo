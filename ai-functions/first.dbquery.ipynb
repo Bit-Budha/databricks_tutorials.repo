{
 "cells": [
  {
   "cell_type": "code",
   "execution_count": 0,
   "metadata": {
    "application/vnd.databricks.v1+cell": {
     "cellMetadata": {
      "byteLimit": 10485760,
      "rowLimit": 1000
     },
     "inputWidgets": {},
     "nuid": "cc6a0735-6a35-4837-bedb-db96492c36cf",
     "showTitle": false,
     "tableResultSettingsMap": {},
     "title": ""
    }
   },
   "outputs": [],
   "source": [
    "---https://docs.databricks.com/aws/en/large-language-models/ai-functions\n",
    "\n",
    "SELECT Age, ai_query(\n",
    "    \"databricks-meta-llama-3-3-70b-instruct\",\n",
    "    \"Mention in which age group the age of passengers are. I want it to be in 3 groups, less than 30, 30 to 60 and 60 plus \" || Age\n",
    ") AS age_group\n",
    "FROM workspace.titanic_dataset.titanic\n",
    "\n",
    "---\n",
    "\n",
    "SELECT ai_gen('Generate a concise, cheerful email title for a summer bike sale with 20% discount');\n",
    "\n",
    "SELECT ai_gen('Explain briefly about Nepal ?')\n"
   ]
  }
 ],
 "metadata": {
  "application/vnd.databricks.v1+notebook": {
   "computePreferences": null,
   "dashboards": [],
   "environmentMetadata": null,
   "inputWidgetPreferences": null,
   "language": "sql",
   "notebookMetadata": {
    "pythonIndentUnit": 4,
    "sqlQueryOptions": {
     "applyAutoLimit": true,
     "catalog": "workspace",
     "schema": "default"
    }
   },
   "notebookName": "first.dbquery.ipynb",
   "widgets": {}
  },
  "language_info": {
   "name": "sql"
  }
 },
 "nbformat": 4,
 "nbformat_minor": 0
}
